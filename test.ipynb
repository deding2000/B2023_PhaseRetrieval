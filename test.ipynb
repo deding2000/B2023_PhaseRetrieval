{
 "cells": [
  {
   "cell_type": "code",
   "execution_count": 34,
   "metadata": {},
   "outputs": [
    {
     "name": "stdout",
     "output_type": "stream",
     "text": [
      "[[0.8176402 ]\n",
      " [0.72718839]\n",
      " [0.25733515]\n",
      " [0.68578869]\n",
      " [0.67655615]\n",
      " [0.34830382]\n",
      " [0.80258598]\n",
      " [0.77455449]\n",
      " [0.19027614]\n",
      " [0.62410194]]\n",
      "[[0.]\n",
      " [0.]\n",
      " [0.]\n",
      " [0.]\n",
      " [0.]\n",
      " [0.]\n",
      " [0.]\n",
      " [0.]\n",
      " [0.]\n",
      " [0.]]\n"
     ]
    }
   ],
   "source": [
    "import numpy as np\n",
    "n = 10\n",
    "m = 10\n",
    "x_test = np.random.rand(n,1)\n",
    "A = np.random.rand(m,n)\n",
    "b = abs(A@x_test)\n",
    "x0 = np.random.rand(n,1)\n",
    "def Af(x):\n",
    "    return A@x\n",
    "print(x_test)\n",
    "\n",
    "t = Af(x0)-b\n",
    "\n",
    "#print(t)\n",
    "\n",
    "t[t<0] = 0\n",
    "print(t)\n",
    "\n",
    "\n"
   ]
  }
 ],
 "metadata": {
  "kernelspec": {
   "display_name": "base",
   "language": "python",
   "name": "python3"
  },
  "language_info": {
   "codemirror_mode": {
    "name": "ipython",
    "version": 3
   },
   "file_extension": ".py",
   "mimetype": "text/x-python",
   "name": "python",
   "nbconvert_exporter": "python",
   "pygments_lexer": "ipython3",
   "version": "3.11.3"
  },
  "orig_nbformat": 4
 },
 "nbformat": 4,
 "nbformat_minor": 2
}
